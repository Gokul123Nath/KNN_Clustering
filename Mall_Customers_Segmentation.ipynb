{
  "cells": [
    {
      "cell_type": "markdown",
      "metadata": {
        "id": "view-in-github",
        "colab_type": "text"
      },
      "source": [
        "<a href=\"https://colab.research.google.com/github/Gokul123Nath/Gokul123Nath/blob/main/K_means_clustering.ipynb\" target=\"_parent\"><img src=\"https://colab.research.google.com/assets/colab-badge.svg\" alt=\"Open In Colab\"/></a>"
      ]
    },
    {
      "cell_type": "code",
      "execution_count": null,
      "id": "4df05620",
      "metadata": {
        "id": "4df05620"
      },
      "outputs": [],
      "source": [
        "import numpy as np\n",
        "import matplotlib.pyplot as plt\n",
        "import pandas as pd"
      ]
    },
    {
      "cell_type": "code",
      "execution_count": null,
      "id": "7311eed9",
      "metadata": {
        "id": "7311eed9"
      },
      "outputs": [],
      "source": [
        "dataset = pd.read_csv('Datasets\\Mall_Customers.csv')"
      ]
    },
    {
      "cell_type": "code",
      "execution_count": null,
      "id": "8ffb218f",
      "metadata": {
        "id": "8ffb218f"
      },
      "outputs": [],
      "source": [
        "x= dataset.iloc[:,[3,4]].values"
      ]
    },
    {
      "cell_type": "code",
      "execution_count": null,
      "id": "97728bbf",
      "metadata": {
        "id": "97728bbf",
        "outputId": "52c923fb-78da-4987-88a9-e626181b3ec9"
      },
      "outputs": [
        {
          "data": {
            "text/plain": [
              "array([15, 81], dtype=int64)"
            ]
          },
          "execution_count": 7,
          "metadata": {},
          "output_type": "execute_result"
        }
      ],
      "source": [
        "x[1]"
      ]
    },
    {
      "cell_type": "markdown",
      "id": "f70d1321",
      "metadata": {
        "id": "f70d1321"
      },
      "source": [
        "### Using the elbow method to find the optimal number of clusters"
      ]
    },
    {
      "cell_type": "markdown",
      "id": "2883d9ea",
      "metadata": {
        "id": "2883d9ea"
      },
      "source": [
        "###As kmeans is an iterative process,whereby at each step we compute the seed points,we use a loop to run our code iteratively¶"
      ]
    },
    {
      "cell_type": "markdown",
      "id": "c98e8acb",
      "metadata": {
        "id": "c98e8acb"
      },
      "source": [
        "###Traditional k-means utilizes a randomization process for initializing these centroids -- though this is not the only approach -- but poor initialization can lead to increased numbers of required clustering iterations to reach convergence, and a less-efficient algorithm overall. k-means++ is relatively consistent within clusters, with the specific data points selected as initial centroids varying slightly."
      ]
    },
    {
      "cell_type": "code",
      "execution_count": null,
      "id": "bb614ea1",
      "metadata": {
        "id": "bb614ea1",
        "outputId": "5ea633c8-cf67-4eca-8759-07d677fb8e7a"
      },
      "outputs": [
        {
          "name": "stderr",
          "output_type": "stream",
          "text": [
            "C:\\Users\\gokulnath.kandasamy\\Anaconda3\\lib\\site-packages\\sklearn\\cluster\\_kmeans.py:881: UserWarning: KMeans is known to have a memory leak on Windows with MKL, when there are less chunks than available threads. You can avoid it by setting the environment variable OMP_NUM_THREADS=1.\n",
            "  warnings.warn(\n"
          ]
        },
        {
          "data": {
            "image/png": "[encoded data removed]",
            "text/plain": [
              "<Figure size 432x288 with 1 Axes>"
            ]
          },
          "metadata": {
            "needs_background": "light"
          },
          "output_type": "display_data"
        }
      ],
      "source": [
        "# Importing kmeans clustering model\n",
        "from sklearn.cluster import KMeans\n",
        "wcss =[]\n",
        "for i in range(1,10):\n",
        "    kmeans = KMeans(n_clusters=i,init='k-means++',random_state=42)\n",
        "    kmeans.fit(x)\n",
        "    wcss.append(kmeans.inertia_)\n",
        "plt.plot(range(1,10),wcss)\n",
        "plt.title('The Elbow Method')\n",
        "plt.xlabel('Number Of Clusters')\n",
        "plt.ylabel('wcss')\n",
        "plt.show()"
      ]
    },
    {
      "cell_type": "code",
      "execution_count": null,
      "id": "e2e80be6",
      "metadata": {
        "id": "e2e80be6"
      },
      "outputs": [],
      "source": [
        "kmeans = KMeans(n_clusters = 5, init = 'k-means++', random_state = 42)\n",
        "y_kmeans = kmeans.fit_predict(x) #this line trains the kmeans model to identify 5 clusters,and creates a DV with \n",
        "                                 #thse 5 clstrs,DV will be 0,1,2,3,4(5 clusters)\n"
      ]
    },
    {
      "cell_type": "code",
      "execution_count": null,
      "id": "238be3ab",
      "metadata": {
        "id": "238be3ab",
        "outputId": "8a42c045-a942-4978-d2bc-491d348c5909"
      },
      "outputs": [
        {
          "name": "stdout",
          "output_type": "stream",
          "text": [
            "[2 3 2 3 2 3 2 3 2 3 2 3 2 3 2 3 2 3 2 3 2 3 2 3 2 3 2 3 2 3 2 3 2 3 2 3 2\n",
            " 3 2 3 2 3 2 0 2 3 0 0 0 0 0 0 0 0 0 0 0 0 0 0 0 0 0 0 0 0 0 0 0 0 0 0 0 0\n",
            " 0 0 0 0 0 0 0 0 0 0 0 0 0 0 0 0 0 0 0 0 0 0 0 0 0 0 0 0 0 0 0 0 0 0 0 0 0\n",
            " 0 0 0 0 0 0 0 0 0 0 0 0 4 1 4 0 4 1 4 1 4 0 4 1 4 1 4 1 4 1 4 0 4 1 4 1 4\n",
            " 1 4 1 4 1 4 1 4 1 4 1 4 1 4 1 4 1 4 1 4 1 4 1 4 1 4 1 4 1 4 1 4 1 4 1 4 1\n",
            " 4 1 4 1 4 1 4 1 4 1 4 1 4 1 4]\n"
          ]
        }
      ],
      "source": [
        "print(y_kmeans)"
      ]
    },
    {
      "cell_type": "markdown",
      "id": "6fddea14",
      "metadata": {
        "id": "6fddea14"
      },
      "source": [
        "###plt.scatter(X[y_kmeans == 0,0]) #when creating a scatterplot,we have to have the X cordinate as the first arg as it contains the number of features. [,0] implies we want to select those customers who fall in the first cluster.[y_kmeans == 0,0] implies we want to select only those rows of customers from the y_kmeans object who fall in the first cluster.Now X has 2 columns,1st column is the income,and 2nd column is the spending score.as the X cordinate takes all the rowsof data which fall in cluster 1 and the 1st column(0),the Y cordinate will also take all the rows for the first cluster,but the 2nd column(1).So,x-coord=(X[y_kmeans ==0,0])y-coord=(X[y_kmeans== 0,1]) for our first cluster. "
      ]
    },
    {
      "cell_type": "code",
      "execution_count": null,
      "id": "6eb70e2e",
      "metadata": {
        "id": "6eb70e2e",
        "outputId": "d11e96bb-02f1-494c-fdb9-f9838f466e9a"
      },
      "outputs": [
        {
          "data": {
            "image/png": "[encoded data removed]",
            "text/plain": [
              "<Figure size 432x288 with 1 Axes>"
            ]
          },
          "metadata": {
            "needs_background": "light"
          },
          "output_type": "display_data"
        }
      ],
      "source": [
        "plt.scatter(x[y_kmeans==0,0],x[y_kmeans==0,1],s=100,c='red',label='cluster1')\n",
        "plt.scatter(x[y_kmeans==1,0],x[y_kmeans==1,1],s=100,c='blue',label='cluster2')\n",
        "plt.scatter(x[y_kmeans==2,0],x[y_kmeans==2,1],s=100,c='magenta',label='cluster3')\n",
        "plt.scatter(x[y_kmeans==3,0],x[y_kmeans==3,1],s=100,c='green',label='cluster4')\n",
        "plt.scatter(x[y_kmeans==4,0],x[y_kmeans==4,1],s=100,c='yellow',label='cluster5')\n",
        "plt.show()"
      ]
    },
    {
      "cell_type": "code",
      "execution_count": null,
      "id": "4e1101d5",
      "metadata": {
        "id": "4e1101d5"
      },
      "outputs": [],
      "source": []
    }
  ],
  "metadata": {
    "kernelspec": {
      "display_name": "Python 3",
      "language": "python",
      "name": "python3"
    },
    "language_info": {
      "codemirror_mode": {
        "name": "ipython",
        "version": 3
      },
      "file_extension": ".py",
      "mimetype": "text/x-python",
      "name": "python",
      "nbconvert_exporter": "python",
      "pygments_lexer": "ipython3",
      "version": "3.8.8"
    },
    "colab": {
      "provenance": [],
      "collapsed_sections": [],
      "include_colab_link": true
    }
  },
  "nbformat": 4,
  "nbformat_minor": 5
}
